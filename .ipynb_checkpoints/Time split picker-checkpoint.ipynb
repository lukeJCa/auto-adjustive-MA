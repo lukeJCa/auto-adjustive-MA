{
 "cells": [
  {
   "cell_type": "code",
   "execution_count": 11,
   "id": "median-lease",
   "metadata": {},
   "outputs": [
    {
     "name": "stdout",
     "output_type": "stream",
     "text": [
      "['MMM', 'ABT', 'ABBV', 'ABMD', 'ACN', 'ATVI', 'ADBE', 'AMD', 'AAP', 'AES', 'AFL', 'A', 'APD', 'AKAM', 'ALK', 'ALB', 'ARE', 'ALXN', 'ALGN', 'ALLE', 'AGN', 'ADS', 'LNT', 'ALL', 'GOOGL', 'GOOG', 'MO', 'AMZN', 'AMCR', 'AEE', 'AAL', 'AEP', 'AXP', 'AIG', 'AMT', 'AWK', 'AMP', 'ABC', 'AME', 'AMGN', 'APH', 'ADI', 'ANSS', 'ANTM', 'AON', 'AOS', 'APA', 'AIV', 'AAPL', 'AMAT', 'APTV', 'ADM', 'ANET', 'AJG', 'AIZ', 'T', 'ATO', 'ADSK', 'ADP', 'AZO', 'AVB', 'AVY', 'BKR', 'BLL', 'BAC', 'BK', 'BAX', 'BDX', 'BBY', 'BIIB', 'BLK', 'BA', 'BKNG', 'BWA', 'BXP', 'BSX', 'BMY', 'AVGO', 'BR', 'CHRW', 'COG', 'CDNS', 'CPB', 'COF', 'CPRI', 'CAH', 'KMX', 'CCL', 'CAT', 'CBOE', 'CBRE', 'CDW', 'CE', 'CNC', 'CNP', 'CTL', 'CERN', 'CF', 'SCHW', 'CHTR', 'CVX', 'CMG', 'CB', 'CHD', 'CI', 'CINF', 'CTAS', 'CSCO', 'C', 'CFG', 'CTXS', 'CLX', 'CME', 'CMS', 'KO', 'CTSH', 'CL', 'CMCSA', 'CMA', 'CAG', 'CXO', 'COP', 'ED', 'COO', 'CPRT', 'GLW', 'CTVA', 'COST', 'COTY', 'CCI', 'CSX', 'CMI', 'CVS', 'DHI', 'DHR', 'DRI', 'DVA', 'DE', 'DAL', 'XRAY', 'DVN', 'FANG', 'DLR', 'DFS', 'DISCA', 'DISCK', 'DISH', 'DG', 'DLTR', 'D', 'DOV', 'DOW', 'DTE', 'DUK', 'DRE', 'DD', 'DXC', 'ETFC', 'EMN', 'ETN', 'EBAY', 'ECL', 'EIX', 'EW', 'EA', 'EMR', 'ETR', 'EOG', 'EFX', 'EQIX', 'EQR', 'ESS', 'EL', 'EVRG', 'ES', 'RE', 'EXC', 'EXPE', 'EXPD', 'EXR', 'XOM', 'FFIV', 'FB', 'FAST', 'FRT', 'FDX', 'FIS', 'FITB', 'FE', 'FRC', 'FISV', 'FLT', 'FLIR', 'FLS', 'FMC', 'F', 'FTNT', 'FTV', 'FBHS', 'FOXA', 'FOX', 'BEN', 'FCX', 'GPS', 'GRMN', 'IT', 'GD', 'GE', 'GIS', 'GM', 'GPC', 'GILD', 'GL', 'GPN', 'GS', 'GWW', 'HRB', 'HAL', 'HBI', 'HOG', 'HIG', 'HAS', 'HCA', 'PEAK', 'HP', 'HSIC', 'HSY', 'HES', 'HPE', 'HLT', 'HFC', 'HOLX', 'HD', 'HON', 'HRL', 'HST', 'HPQ', 'HUM', 'HBAN', 'HII', 'IEX', 'IDXX', 'INFO', 'ITW', 'ILMN', 'INCY', 'IR', 'INTC', 'ICE', 'IBM', 'IP', 'IPG', 'IFF', 'INTU', 'ISRG', 'IVZ', 'IPGP', 'IQV', 'IRM', 'JKHY', 'J', 'JBHT', 'SJM', 'JNJ', 'JCI', 'JPM', 'JNPR', 'KSU', 'K', 'KEY', 'KEYS', 'KMB', 'KIM', 'KMI', 'KLAC', 'KSS', 'KHC', 'KR', 'LB', 'LHX', 'LH', 'LRCX', 'LW', 'LVS', 'LEG', 'LDOS', 'LEN', 'LLY', 'LNC', 'LIN', 'LYV', 'LKQ', 'LMT', 'L', 'LOW', 'LYB', 'MTB', 'MRO', 'MPC', 'MKTX', 'MAR', 'MMC', 'MLM', 'MAS', 'MA', 'MKC', 'MXIM', 'MCD', 'MCK', 'MDT', 'MRK', 'MET', 'MTD', 'MGM', 'MCHP', 'MU', 'MSFT', 'MAA', 'MHK', 'TAP', 'MDLZ', 'MNST', 'MCO', 'MS', 'MOS', 'MSI', 'MSCI', 'MYL', 'NDAQ', 'NOV', 'NTAP', 'NFLX', 'NWL', 'NEM', 'NWSA', 'NWS', 'NEE', 'NLSN', 'NKE', 'NI', 'NBL', 'JWN', 'NSC', 'NTRS', 'NOC', 'NLOK', 'NCLH', 'NRG', 'NUE', 'NVDA', 'NVR', 'ORLY', 'OXY', 'ODFL', 'OMC', 'OKE', 'ORCL', 'PCAR', 'PKG', 'PH', 'PAYX', 'PAYC', 'PYPL', 'PNR', 'PBCT', 'PEP', 'PKI', 'PRGO', 'PFE', 'PM', 'PSX', 'PNW', 'PXD', 'PNC', 'PPG', 'PG', 'PGR', 'PLD', 'PRU', 'PEG', 'PSA', 'PHM', 'PVH', 'QRVO', 'PWR', 'QCOM', 'DGX', 'RL', 'RJF', 'RTX', 'O', 'REG', 'REGN', 'RF', 'RSG', 'RMD', 'RHI', 'ROK', 'ROL', 'ROP', 'ROST', 'RCL', 'SPGI', 'CRM', 'SBAC', 'SLB', 'STX', 'SEE', 'SRE', 'NOW', 'SHW', 'SPG', 'SWKS', 'SLG', 'SNA', 'SO', 'LUV', 'SWK', 'SBUX', 'STT', 'STE', 'SYK', 'SIVB', 'SYF', 'SNPS', 'SYY', 'TMUS', 'TROW', 'TTWO', 'TPR', 'TGT', 'TEL', 'FTI', 'TFX', 'TXN', 'TXT', 'TMO', 'TIF', 'TJX', 'TSCO', 'TT', 'TDG', 'TRV', 'TFC', 'TWTR', 'TSN', 'UDR', 'ULTA', 'USB', 'UAA', 'UA', 'UNP', 'UAL', 'UNH', 'UPS', 'URI', 'UHS', 'UNM', 'VFC', 'VLO', 'VAR', 'VTR', 'VRSN', 'VRSK', 'VZ', 'VRTX', 'VIAC', 'V', 'VNO', 'VMC', 'WRB', 'WAB', 'WMT', 'WBA', 'DIS', 'WM', 'WAT', 'WEC', 'WFC', 'WELL', 'WDC', 'WU', 'WRK', 'WY', 'WHR', 'WMB', 'WLTW', 'WYNN', 'XEL', 'XRX', 'XLNX', 'XYL', 'YUM', 'ZBRA', 'ZBH', 'ZION', 'ZTS']\n"
     ]
    }
   ],
   "source": [
    "ticker_list = []\n",
    "with open('S&P500.csv') as csvfile:\n",
    "    for row in csvfile:\n",
    "        ticker_list.append(row.strip())\n",
    "        \n",
    "print(ticker_list)"
   ]
  },
  {
   "cell_type": "code",
   "execution_count": 12,
   "id": "subjective-theorem",
   "metadata": {},
   "outputs": [
    {
     "name": "stdout",
     "output_type": "stream",
     "text": [
      "[*********************100%***********************]  497 of 497 completed\n",
      "\n",
      "7 Failed downloads:\n",
      "- TIF: No data found, symbol may be delisted\n",
      "- MYL: No data found, symbol may be delisted\n",
      "- AGN: No data found, symbol may be delisted\n",
      "- ETFC: No data found, symbol may be delisted\n",
      "- CTL: No data found, symbol may be delisted\n",
      "- NBL: No data found, symbol may be delisted\n",
      "- CXO: No data found, symbol may be delisted\n"
     ]
    }
   ],
   "source": [
    "import datetime\n",
    "from datetime import timedelta\n",
    "import yfinance as yf\n",
    "\n",
    "time = 500\n",
    "#data = reader.get_data_yahoo(symbols=ticker, start=datetime.datetime.now() - timedelta(days=time), end=datetime.datetime.now())\n",
    "data = yf.download(ticker_list[0:1900], start=datetime.datetime.now() - timedelta(days=time), end=datetime.datetime.now())\n"
   ]
  },
  {
   "cell_type": "code",
   "execution_count": 13,
   "id": "chicken-python",
   "metadata": {},
   "outputs": [],
   "source": [
    "data = data.dropna(axis=1, how='all')\n",
    "new_ticker_list = list(data[\"Adj Close\"].columns)"
   ]
  },
  {
   "cell_type": "code",
   "execution_count": 18,
   "id": "seventh-blink",
   "metadata": {},
   "outputs": [],
   "source": [
    "# Considers some time back x, looks at the most consistently growing companies\n",
    "#.   and chops the y number of companies at the top of that list, good for reducing lists\n",
    "def chop_tickers_by_time(ticker_list, time_back, cut_time, reverse = True):\n",
    "    consistency = []\n",
    "    for ticker in ticker_list:\n",
    "        adj = data[\"Adj Close\"][ticker].diff(1)[-time_back:-1]\n",
    "        high = data[\"High\"][ticker].diff(1)[-time_back:-1]\n",
    "        low = data[\"Low\"][ticker].diff(1)[-time_back:-1]\n",
    "        con_count = 0\n",
    "        for count, x in enumerate(adj):\n",
    "            if adj[count] > 0:\n",
    "                con_count += 1\n",
    "            else:\n",
    "                con_count -= 1\n",
    "            if high[count] > 0:\n",
    "                con_count += 1\n",
    "            else:\n",
    "                con_count -= 1\n",
    "            if low[count] > 0:\n",
    "                con_count += 1\n",
    "            else:\n",
    "                con_count -= 1\n",
    "        #print(ticker + \" has score \" + str(con_count))\n",
    "        consistency.append((ticker, con_count))\n",
    "    sorted_by_second = sorted(consistency, key=lambda tup: tup[1], reverse = reverse)\n",
    "    best_tickers = [x[0] for x in sorted_by_second[0:cut_time]]\n",
    "    return best_tickers"
   ]
  },
  {
   "cell_type": "code",
   "execution_count": null,
   "id": "binding-confirmation",
   "metadata": {},
   "outputs": [],
   "source": [
    "def chop_tickers_by_time(ticker_list, time_back):\n",
    "    consistency = []\n",
    "    for ticker in ticker_list:\n",
    "        change = data[\"Adj Close\"][ticker][-5:-1]/data[\"Adj Close\"][ticker][-1]\n",
    "        \n",
    "        print(ticker + \" has score \" + str(con_count))\n",
    "        consistency.append((ticker, change))\n",
    "    sorted_by_second = sorted(consistency, key=lambda tup: tup[1], reverse = True)\n",
    "    best_tickers = [x[0] for x in sorted_by_second[0:5]]\n",
    "    return best_tickers"
   ]
  },
  {
   "cell_type": "code",
   "execution_count": 19,
   "id": "ordered-hybrid",
   "metadata": {},
   "outputs": [
    {
     "name": "stdout",
     "output_type": "stream",
     "text": [
      "['ZTS', 'PLD', 'IDXX', 'PSA', 'MCO']\n"
     ]
    }
   ],
   "source": [
    "chop1 = chop_tickers_by_time(new_ticker_list, 1500, 250)\n",
    "chop2 = chop_tickers_by_time(chop1, 500, 150)\n",
    "chop3 = chop_tickers_by_time(chop2, 100, 75)\n",
    "chop4 = chop_tickers_by_time(chop3, 50, 25)\n",
    "chop5 = chop_tickers_by_time(chop4, 1, 5, reverse = False)\n",
    "print(chop5)"
   ]
  },
  {
   "cell_type": "code",
   "execution_count": null,
   "id": "consecutive-fighter",
   "metadata": {},
   "outputs": [],
   "source": []
  }
 ],
 "metadata": {
  "kernelspec": {
   "display_name": "Python 3",
   "language": "python",
   "name": "python3"
  },
  "language_info": {
   "codemirror_mode": {
    "name": "ipython",
    "version": 3
   },
   "file_extension": ".py",
   "mimetype": "text/x-python",
   "name": "python",
   "nbconvert_exporter": "python",
   "pygments_lexer": "ipython3",
   "version": "3.7.9"
  }
 },
 "nbformat": 4,
 "nbformat_minor": 5
}
